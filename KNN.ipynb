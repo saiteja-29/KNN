{
  "nbformat": 4,
  "nbformat_minor": 0,
  "metadata": {
    "colab": {
      "provenance": [],
      "gpuType": "T4"
    },
    "kernelspec": {
      "name": "python3",
      "display_name": "Python 3"
    },
    "language_info": {
      "name": "python"
    },
    "accelerator": "GPU"
  },
  "cells": [
    {
      "cell_type": "code",
      "execution_count": 24,
      "metadata": {
        "id": "MClDRhWiZNwL"
      },
      "outputs": [],
      "source": [
        "import numpy as np\n",
        "from collections import Counter\n",
        "from tensorflow.keras.datasets import cifar10\n",
        "from sklearn.decomposition import PCA"
      ]
    },
    {
      "cell_type": "code",
      "source": [
        "class KNN:\n",
        "  def __init__(self,k=3):\n",
        "    self.k=k\n",
        "\n",
        "  def fit(self,X_train,y_train):\n",
        "    self.X_train=X_train\n",
        "    self.y_train=y_train\n",
        "\n",
        "  def _euclidean_distance(self,x1,x2):\n",
        "    return np.sqrt(np.sum((x1-x2)**2))\n",
        "\n",
        "  def predict(self,X_test):\n",
        "    predictions=[self._predict(x) for x in X_test]\n",
        "    return np.array(predictions)\n",
        "\n",
        "  def _predict(self,x):\n",
        "    distances=[self._euclidean_distance(x,x_train) for x_train in self.X_train]\n",
        "    k_indices=np.argsort(distances)[:self.k]\n",
        "    k_nearest_labels=[self.y_train[i] for i in k_indices]\n",
        "    most_common=Counter(k_nearest_labels).most_common(1)\n",
        "    return most_common[0][0]\n",
        "\n",
        "\n"
      ],
      "metadata": {
        "id": "ZJQs9_aLZzTG"
      },
      "execution_count": 25,
      "outputs": []
    },
    {
      "cell_type": "code",
      "source": [
        "(X_train,y_train),(X_test,y_test)=cifar10.load_data()\n",
        "print(f\"Original shape of X_train : {X_train.shape}\")\n",
        "X_train=X_train.reshape(X_train.shape[0],-1)\n",
        "print(f\"Reshaped shape of X_train : {X_train.shape}\")\n",
        "X_test=X_test.reshape(X_test.shape[0],-1)\n",
        "print(f\"Reshaped shape of X_test : {X_test.shape}\")\n",
        "y_train=y_train.flatten()\n",
        "y_test=y_test.flatten()\n",
        "\n",
        "X_train=X_train[:5000]\n",
        "y_train=y_train[:5000]\n",
        "X_test=X_test[:100]\n",
        "y_test=y_test[:100]\n",
        "#normalize\n",
        "X_train = X_train / 255.0\n",
        "X_test = X_test / 255.0\n",
        "#pca\n",
        "pca = PCA(n_components=100)  # Reduce to 100 dimensions\n",
        "X_train_pca = pca.fit_transform(X_train)\n",
        "X_test_pca = pca.transform(X_test)\n",
        "\n",
        "knn=KNN(3)\n",
        "knn.fit(X_train_pca,y_train)\n",
        "predictions=knn.predict(X_test_pca)\n",
        "accuracy=np.mean(predictions==y_test)\n",
        "print(f\"accuracy is {accuracy}\")"
      ],
      "metadata": {
        "colab": {
          "base_uri": "https://localhost:8080/"
        },
        "id": "Inpq_Bp4nIz0",
        "outputId": "b3583c16-06ce-480b-829d-e5b9bafe5364"
      },
      "execution_count": 26,
      "outputs": [
        {
          "output_type": "stream",
          "name": "stdout",
          "text": [
            "Original shape of X_train : (50000, 32, 32, 3)\n",
            "Reshaped shape of X_train : (50000, 3072)\n",
            "Reshaped shape of X_test : (10000, 3072)\n",
            "accuracy is 0.33\n"
          ]
        }
      ]
    },
    {
      "cell_type": "code",
      "source": [
        "pip install pillow"
      ],
      "metadata": {
        "colab": {
          "base_uri": "https://localhost:8080/"
        },
        "id": "2uxPJ6ZSoBQy",
        "outputId": "f3ba164d-bb2d-4339-cea1-681e004ceba2"
      },
      "execution_count": 27,
      "outputs": [
        {
          "output_type": "stream",
          "name": "stdout",
          "text": [
            "Requirement already satisfied: pillow in /usr/local/lib/python3.11/dist-packages (11.2.1)\n"
          ]
        }
      ]
    },
    {
      "cell_type": "code",
      "source": [
        "from PIL import Image\n",
        "import requests\n",
        "from io import BytesIO\n",
        "cifar10_labels = ['airplane', 'automobile', 'bird', 'cat', 'deer',\n",
        "                  'dog', 'frog', 'horse', 'ship', 'truck']\n",
        "\n",
        "def load_and_prepare_image(url):\n",
        "  response = requests.get(url)\n",
        "  img=Image.open(BytesIO(response.content)).convert('RGB')\n",
        "  img=img.resize((32,32))\n",
        "  img_array=np.array(img)\n",
        "  img_flat=img_array.reshape(-1)\n",
        "  img_flat=img_flat/255.0\n",
        "  img_pca = pca.transform([img_flat])\n",
        "  return img,img_pca\n",
        "\n",
        "image_url = \"https://images.pexels.com/photos/45201/kitty-cat-kitten-pet-45201.jpeg\"\n",
        "img, img_vector = load_and_prepare_image(image_url)\n",
        "display(img)\n",
        "\n",
        "predicted_label=knn.predict(img_vector)[0]\n",
        "print(f\"predicted_label is : {cifar10_labels[predicted_label]}\")"
      ],
      "metadata": {
        "colab": {
          "base_uri": "https://localhost:8080/",
          "height": 67
        },
        "id": "4aNvtBHJuBCR",
        "outputId": "2a5a3bde-400e-4f72-d245-3dd7ebab65f6"
      },
      "execution_count": 28,
      "outputs": [
        {
          "output_type": "display_data",
          "data": {
            "text/plain": [
              "<PIL.Image.Image image mode=RGB size=32x32>"
            ],
            "image/png": "[encoded data removed]",
            "image/jpeg": "[encoded data removed]"
          },
          "metadata": {}
        },
        {
          "output_type": "stream",
          "name": "stdout",
          "text": [
            "predicted_label is : frog\n"
          ]
        }
      ]
    },
    {
      "cell_type": "code",
      "source": [],
      "metadata": {
        "id": "kwWiFBczvvlb"
      },
      "execution_count": 28,
      "outputs": []
    }
  ]
}